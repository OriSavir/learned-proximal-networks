{
 "cells": [
  {
   "cell_type": "code",
   "execution_count": 1,
   "metadata": {},
   "outputs": [],
   "source": [
    "import sys\n",
    "import os\n",
    "\n",
    "sys.path.append(os.path.abspath(os.path.join('..', '..')))\n",
    "\n",
    "import argparse\n",
    "from pprint import pp\n",
    "import torch\n",
    "from torch import nn\n",
    "from tqdm import tqdm\n",
    "import numpy as np\n",
    "import json\n",
    "import os\n",
    "from omegaconf import OmegaConf\n",
    "from torch.utils.tensorboard import SummaryWriter\n",
    "\n",
    "from lpn.utils import load_dataset, load_config\n",
    "from lpn.utils import get_model\n",
    "from lpn.utils import get_loss_hparams_and_lr, get_loss\n",
    "from lpn.utils import trainer\n",
    "from lpn.utils import utils\n",
    "import matplotlib.pyplot as plt"
   ]
  },
  {
   "cell_type": "code",
   "execution_count": 2,
   "metadata": {},
   "outputs": [],
   "source": [
    "device = torch.device(\"cuda\" if torch.cuda.is_available() else \"cpu\")\n",
    "\n",
    "dataset_config_path = \"./configs/test_dataset.json\""
   ]
  },
  {
   "cell_type": "code",
   "execution_count": null,
   "metadata": {},
   "outputs": [
    {
     "name": "stdout",
     "output_type": "stream",
     "text": [
      "init weights\n"
     ]
    },
    {
     "data": {
      "text/plain": [
       "<All keys matched successfully>"
      ]
     },
     "execution_count": 10,
     "metadata": {},
     "output_type": "execute_result"
    }
   ],
   "source": [
    "model_config_path = \"./models/ne_lpn_sub_sq/s=0.1/model_config.json\"\n",
    "model_weight_path = \"./models/ne_lpn_sub_sq/s=0.1/model.pt\"\n",
    "\n",
    "#import model as cuda\n",
    "model_config = load_config(model_config_path)\n",
    "model = get_model(model_config).to(device)\n",
    "model.load_state_dict(torch.load(model_weight_path)[\"model_state_dict\"])"
   ]
  },
  {
   "cell_type": "code",
   "execution_count": 11,
   "metadata": {},
   "outputs": [
    {
     "name": "stdout",
     "output_type": "stream",
     "text": [
      "init weights\n"
     ]
    },
    {
     "data": {
      "text/plain": [
       "<All keys matched successfully>"
      ]
     },
     "execution_count": 11,
     "metadata": {},
     "output_type": "execute_result"
    }
   ],
   "source": [
    "Lpn_config_path = \"./models/lpn/s=0.1/model_config.json\"\n",
    "Lpn_weight_path = \"./models/lpn/s=0.1/model.pt\"\n",
    "\n",
    "lpn_config = load_config(Lpn_config_path)\n",
    "lpn = get_model(lpn_config).to(device)\n",
    "lpn.load_state_dict(torch.load(Lpn_weight_path)[\"model_state_dict\"])"
   ]
  },
  {
   "cell_type": "code",
   "execution_count": 6,
   "metadata": {},
   "outputs": [
    {
     "name": "stdout",
     "output_type": "stream",
     "text": [
      "dataset:  celeba\n"
     ]
    }
   ],
   "source": [
    "dataset_config = load_config(dataset_config_path)\n",
    "test_dataset = load_dataset(dataset_config, \"test\")\n",
    "test_data_loader = torch.utils.data.DataLoader(test_dataset, batch_size=1, shuffle=False, num_workers=4)"
   ]
  },
  {
   "cell_type": "code",
   "execution_count": 12,
   "metadata": {},
   "outputs": [
    {
     "name": "stdout",
     "output_type": "stream",
     "text": [
      "Shift factor: 0.1\n",
      "NE avg loss: 1.4885827883922078e-13\n",
      "LPN avg loss: 9.136728108569515e-05\n",
      "LPN avg loss - NE avg loss: 9.136728093683687e-05\n",
      "\n",
      "Shift factor: 0.2\n",
      "NE avg loss: 2.313394794637238e-13\n",
      "LPN avg loss: 0.00042952534833239043\n",
      "LPN avg loss - NE avg loss: 0.00042952534810105096\n",
      "\n",
      "Shift factor: 0.3\n",
      "NE avg loss: 1.976973893700598e-13\n",
      "LPN avg loss: 0.001341682005473558\n",
      "LPN avg loss - NE avg loss: 0.0013416820052758608\n",
      "\n",
      "Shift factor: 0.4\n",
      "NE avg loss: 1.9832702612755963e-13\n",
      "LPN avg loss: 0.0035485970449153684\n",
      "LPN avg loss - NE avg loss: 0.0035485970447170414\n",
      "\n",
      "Shift factor: 0.5\n",
      "NE avg loss: 2.331373898662305e-13\n",
      "LPN avg loss: 0.008025354051169416\n",
      "LPN avg loss - NE avg loss: 0.008025354050936278\n",
      "\n"
     ]
    }
   ],
   "source": [
    "shift_factors = [0.1, 0.2, 0.3, 0.4, 0.5]\n",
    "\n",
    "for shift_factor in shift_factors:\n",
    "\n",
    "    ne_running_loss = 0 \n",
    "    lpn_running_loss = 0\n",
    "    num_steps = 500\n",
    "    for step, batch in enumerate(test_data_loader):\n",
    "        if step >= num_steps:\n",
    "            break\n",
    "\n",
    "        clean_image = batch[\"image\"].to(device)\n",
    "        shift_tensor = torch.full_like(clean_image, shift_factor).to(device)\n",
    "        shifted_image = clean_image + shift_tensor\n",
    "\n",
    "        ne_clean_out = model(clean_image)\n",
    "        lpn_clean_out = lpn(clean_image)\n",
    "\n",
    "        ne_shifted_out = model(shifted_image)\n",
    "        lpn_shifted_out = lpn(shifted_image)\n",
    "\n",
    "        #shifted versions of clean outputs\n",
    "        ne_clean_out_shifted = ne_clean_out + shift_tensor\n",
    "        lpn_clean_out_shifted = lpn_clean_out + shift_tensor\n",
    "\n",
    "        #loss between output from shifted input vs shifted output from clean input\n",
    "        mse_loss = nn.MSELoss()\n",
    "        ne_loss = mse_loss(ne_shifted_out, ne_clean_out_shifted)\n",
    "        lpn_loss = mse_loss(lpn_shifted_out, lpn_clean_out_shifted)\n",
    "\n",
    "        ne_running_loss += ne_loss.item()\n",
    "        lpn_running_loss += lpn_loss.item()\n",
    "    \n",
    "    ne_avg_loss = ne_running_loss / num_steps\n",
    "    lpn_avg_loss = lpn_running_loss / num_steps\n",
    "\n",
    "    print(f\"Shift factor: {shift_factor}\")\n",
    "    print(f\"NE avg loss: {ne_avg_loss}\")\n",
    "    print(f\"LPN avg loss: {lpn_avg_loss}\")\n",
    "    print(f\"LPN avg loss - NE avg loss: {lpn_avg_loss - ne_avg_loss}\\n\")"
   ]
  }
 ],
 "metadata": {
  "kernelspec": {
   "display_name": "lpn",
   "language": "python",
   "name": "python3"
  },
  "language_info": {
   "codemirror_mode": {
    "name": "ipython",
    "version": 3
   },
   "file_extension": ".py",
   "mimetype": "text/x-python",
   "name": "python",
   "nbconvert_exporter": "python",
   "pygments_lexer": "ipython3",
   "version": "3.9.16"
  }
 },
 "nbformat": 4,
 "nbformat_minor": 2
}
