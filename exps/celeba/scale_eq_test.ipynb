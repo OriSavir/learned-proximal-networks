{
 "cells": [
  {
   "cell_type": "code",
   "execution_count": 1,
   "metadata": {},
   "outputs": [],
   "source": [
    "import sys\n",
    "import os\n",
    "\n",
    "sys.path.append(os.path.abspath(os.path.join('..', '..')))\n",
    "\n",
    "import argparse\n",
    "from pprint import pp\n",
    "import torch\n",
    "from torch import nn\n",
    "from tqdm import tqdm\n",
    "import numpy as np\n",
    "import json\n",
    "import os\n",
    "from omegaconf import OmegaConf\n",
    "from torch.utils.tensorboard import SummaryWriter\n",
    "\n",
    "from lpn.utils import load_dataset, load_config\n",
    "from lpn.utils import get_model\n",
    "from lpn.utils import get_loss_hparams_and_lr, get_loss\n",
    "from lpn.utils import trainer\n",
    "from lpn.utils import utils\n",
    "import matplotlib.pyplot as plt"
   ]
  },
  {
   "cell_type": "code",
   "execution_count": 2,
   "metadata": {},
   "outputs": [],
   "source": [
    "device = torch.device(\"cuda\" if torch.cuda.is_available() else \"cpu\")\n",
    "\n",
    "dataset_config_path = \"./configs/test_dataset.json\""
   ]
  },
  {
   "cell_type": "code",
   "execution_count": null,
   "metadata": {},
   "outputs": [
    {
     "name": "stdout",
     "output_type": "stream",
     "text": [
      "init weights\n"
     ]
    },
    {
     "data": {
      "text/plain": [
       "<All keys matched successfully>"
      ]
     },
     "execution_count": 3,
     "metadata": {},
     "output_type": "execute_result"
    }
   ],
   "source": [
    "model_config_path = \"./models/ne_lpn_sub_sq/s=0.1/model_config.json\"\n",
    "model_weight_path = \"./models/ne_lpn_sub_sq/s=0.1/model.pt\"\n",
    "\n",
    "#import model as cuda\n",
    "model_config = load_config(model_config_path)\n",
    "model = get_model(model_config).to(device)\n",
    "model.load_state_dict(torch.load(model_weight_path)[\"model_state_dict\"])"
   ]
  },
  {
   "cell_type": "code",
   "execution_count": 4,
   "metadata": {},
   "outputs": [
    {
     "name": "stdout",
     "output_type": "stream",
     "text": [
      "init weights\n"
     ]
    },
    {
     "data": {
      "text/plain": [
       "<All keys matched successfully>"
      ]
     },
     "execution_count": 4,
     "metadata": {},
     "output_type": "execute_result"
    }
   ],
   "source": [
    "Lpn_config_path = \"./models/lpn/s=0.1/model_config.json\"\n",
    "Lpn_weight_path = \"./models/lpn/s=0.1/model.pt\"\n",
    "\n",
    "lpn_config = load_config(Lpn_config_path)\n",
    "lpn = get_model(lpn_config).to(device)\n",
    "lpn.load_state_dict(torch.load(Lpn_weight_path)[\"model_state_dict\"])"
   ]
  },
  {
   "cell_type": "code",
   "execution_count": 5,
   "metadata": {},
   "outputs": [
    {
     "name": "stdout",
     "output_type": "stream",
     "text": [
      "dataset:  celeba\n"
     ]
    }
   ],
   "source": [
    "dataset_config = load_config(dataset_config_path)\n",
    "test_dataset = load_dataset(dataset_config, \"test\")\n",
    "test_data_loader = torch.utils.data.DataLoader(test_dataset, batch_size=1, shuffle=False, num_workers=4)"
   ]
  },
  {
   "cell_type": "code",
   "execution_count": 6,
   "metadata": {},
   "outputs": [
    {
     "name": "stdout",
     "output_type": "stream",
     "text": [
      "Scale factor: 1\n",
      "NE avg loss: 3.5214656283849325e-16\n",
      "LPN avg loss: 2.1363409285040197e-15\n",
      "LPN avg loss - NE avg loss: 1.7841943656655264e-15\n",
      "\n",
      "Scale factor: 2\n",
      "NE avg loss: 0.0021196380817564203\n",
      "LPN avg loss: 0.03647896707919426\n",
      "LPN avg loss - NE avg loss: 0.03435932899743784\n",
      "\n",
      "Scale factor: 3\n",
      "NE avg loss: 0.030496749129379167\n",
      "LPN avg loss: 0.29332542669004763\n",
      "LPN avg loss - NE avg loss: 0.26282867756066847\n",
      "\n",
      "Scale factor: 4\n",
      "NE avg loss: 0.1220150892091915\n",
      "LPN avg loss: 0.9179058705996722\n",
      "LPN avg loss - NE avg loss: 0.7958907813904808\n",
      "\n",
      "Scale factor: 5\n",
      "NE avg loss: 0.2963725308692083\n",
      "LPN avg loss: 1.984061611548066\n",
      "LPN avg loss - NE avg loss: 1.6876890806788578\n",
      "\n"
     ]
    }
   ],
   "source": [
    "scale_factors = [1, 2, 3, 4, 5]\n",
    "\n",
    "\n",
    "for scale_factor in scale_factors:\n",
    "\n",
    "    ne_running_loss = 0 \n",
    "    lpn_running_loss = 0\n",
    "    num_steps = 500\n",
    "    for step, batch in enumerate(test_data_loader):\n",
    "        if step >= num_steps:\n",
    "            break\n",
    "\n",
    "        clean_image = batch[\"image\"].to(device)\n",
    "        scaled_image = clean_image * scale_factor\n",
    "\n",
    "        ne_clean_out = model(clean_image)\n",
    "        lpn_clean_out = lpn(clean_image)\n",
    "\n",
    "        ne_scaled_out = model(scaled_image)\n",
    "        lpn_scaled_out = lpn(scaled_image)\n",
    "\n",
    "        #shifted versions of clean outputs\n",
    "        ne_clean_out_scaled = ne_clean_out * scale_factor\n",
    "        lpn_clean_out_scaled = lpn_clean_out * scale_factor\n",
    "\n",
    "        #loss between output from shifted input vs shifted output from clean input\n",
    "        mse_loss = nn.MSELoss()\n",
    "        ne_loss = mse_loss(ne_scaled_out, ne_clean_out_scaled)\n",
    "        lpn_loss = mse_loss(lpn_scaled_out, lpn_clean_out_scaled)\n",
    "\n",
    "        ne_running_loss += ne_loss.item()\n",
    "        lpn_running_loss += lpn_loss.item()\n",
    "    \n",
    "    ne_avg_loss = ne_running_loss / num_steps\n",
    "    lpn_avg_loss = lpn_running_loss / num_steps\n",
    "\n",
    "    print(f\"Scale factor: {scale_factor}\")\n",
    "    print(f\"NE avg loss: {ne_avg_loss}\")\n",
    "    print(f\"LPN avg loss: {lpn_avg_loss}\")\n",
    "    print(f\"LPN avg loss - NE avg loss: {lpn_avg_loss - ne_avg_loss}\\n\")"
   ]
  }
 ],
 "metadata": {
  "kernelspec": {
   "display_name": "lpn",
   "language": "python",
   "name": "python3"
  },
  "language_info": {
   "codemirror_mode": {
    "name": "ipython",
    "version": 3
   },
   "file_extension": ".py",
   "mimetype": "text/x-python",
   "name": "python",
   "nbconvert_exporter": "python",
   "pygments_lexer": "ipython3",
   "version": "3.9.16"
  }
 },
 "nbformat": 4,
 "nbformat_minor": 2
}
