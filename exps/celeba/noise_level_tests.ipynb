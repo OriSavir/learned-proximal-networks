{
 "cells": [
  {
   "cell_type": "code",
   "execution_count": 1,
   "metadata": {},
   "outputs": [],
   "source": [
    "import sys\n",
    "import os\n",
    "\n",
    "sys.path.append(os.path.abspath(os.path.join('..', '..')))\n",
    "\n",
    "import argparse\n",
    "from pprint import pp\n",
    "import torch\n",
    "from torch import nn\n",
    "from tqdm import tqdm\n",
    "import numpy as np\n",
    "import json\n",
    "import os\n",
    "from omegaconf import OmegaConf\n",
    "from torch.utils.tensorboard import SummaryWriter\n",
    "\n",
    "from lpn.utils import load_dataset, load_config\n",
    "from lpn.utils import get_model\n",
    "from lpn.utils import get_loss_hparams_and_lr, get_loss\n",
    "from lpn.utils import trainer\n",
    "from lpn.utils import utils\n",
    "import matplotlib.pyplot as plt"
   ]
  },
  {
   "cell_type": "code",
   "execution_count": 2,
   "metadata": {},
   "outputs": [],
   "source": [
    "device = torch.device(\"cuda\" if torch.cuda.is_available() else \"cpu\")\n",
    "\n",
    "dataset_config_path = \"./configs/test_dataset.json\""
   ]
  },
  {
   "cell_type": "code",
   "execution_count": 3,
   "metadata": {},
   "outputs": [
    {
     "name": "stdout",
     "output_type": "stream",
     "text": [
      "init weights\n"
     ]
    },
    {
     "data": {
      "text/plain": [
       "<All keys matched successfully>"
      ]
     },
     "execution_count": 3,
     "metadata": {},
     "output_type": "execute_result"
    }
   ],
   "source": [
    "model_config_path = \"./models/ne_lpn_sub_sq/s=0.1/model_config.json\"\n",
    "model_weight_path = \"./models/ne_lpn_sub_sq/s=0.1/model.pt\"\n",
    "\n",
    "#import model as cuda\n",
    "model_config = load_config(model_config_path)\n",
    "model = get_model(model_config).to(device)\n",
    "model.load_state_dict(torch.load(model_weight_path)[\"model_state_dict\"])"
   ]
  },
  {
   "cell_type": "code",
   "execution_count": 4,
   "metadata": {},
   "outputs": [
    {
     "name": "stdout",
     "output_type": "stream",
     "text": [
      "init weights\n"
     ]
    },
    {
     "data": {
      "text/plain": [
       "<All keys matched successfully>"
      ]
     },
     "execution_count": 4,
     "metadata": {},
     "output_type": "execute_result"
    }
   ],
   "source": [
    "Lpn_config_path = \"./models/lpn/s=0.1/model_config.json\"\n",
    "Lpn_weight_path = \"./models/lpn/s=0.1/model.pt\"\n",
    "\n",
    "lpn_config = load_config(Lpn_config_path)\n",
    "lpn = get_model(lpn_config).to(device)\n",
    "lpn.load_state_dict(torch.load(Lpn_weight_path)[\"model_state_dict\"])"
   ]
  },
  {
   "cell_type": "code",
   "execution_count": 5,
   "metadata": {},
   "outputs": [
    {
     "name": "stdout",
     "output_type": "stream",
     "text": [
      "dataset:  celeba\n"
     ]
    }
   ],
   "source": [
    "dataset_config = load_config(dataset_config_path)\n",
    "test_dataset = load_dataset(dataset_config, \"test\")\n",
    "test_data_loader = torch.utils.data.DataLoader(test_dataset, batch_size=1, shuffle=False, num_workers=4)"
   ]
  },
  {
   "cell_type": "code",
   "execution_count": 6,
   "metadata": {},
   "outputs": [
    {
     "name": "stdout",
     "output_type": "stream",
     "text": [
      "Noise Level: 0.1\n",
      "Noisy Avg Loss: 0.009999631425365805\n",
      "NE avg loss: 0.002134344473364763\n",
      "LPN avg loss: 0.0006821837061434053\n",
      "LPN avg loss - NE avg loss: -0.0014521607672213577\n",
      "\n",
      "Noise Level: 0.2\n",
      "Noisy Avg Loss: 0.04000158689916134\n",
      "NE avg loss: 0.003447733152192086\n",
      "LPN avg loss: 0.008296215967740864\n",
      "LPN avg loss - NE avg loss: 0.004848482815548778\n",
      "\n",
      "Noise Level: 0.3\n",
      "Noisy Avg Loss: 0.0899865986034274\n",
      "NE avg loss: 0.0058498631473630665\n",
      "LPN avg loss: 0.0462058300934732\n",
      "LPN avg loss - NE avg loss: 0.04035596694611013\n",
      "\n",
      "Noise Level: 0.4\n",
      "Noisy Avg Loss: 0.15998521897196769\n",
      "NE avg loss: 0.009783117554150522\n",
      "LPN avg loss: 0.1613757793903351\n",
      "LPN avg loss - NE avg loss: 0.15159266183618458\n",
      "\n",
      "Noise Level: 0.5\n",
      "Noisy Avg Loss: 0.24991104516386986\n",
      "NE avg loss: 0.016473093062639235\n",
      "LPN avg loss: 0.4135038355588913\n",
      "LPN avg loss - NE avg loss: 0.3970307424962521\n",
      "\n",
      "Noise Level: 0.6\n",
      "Noisy Avg Loss: 0.3600511156022549\n",
      "NE avg loss: 0.02657725247181952\n",
      "LPN avg loss: 0.8243618001043796\n",
      "LPN avg loss - NE avg loss: 0.7977845476325601\n",
      "\n",
      "Noise Level: 0.7\n",
      "Noisy Avg Loss: 0.4899482229948044\n",
      "NE avg loss: 0.039278447203338146\n",
      "LPN avg loss: 1.3764880534410477\n",
      "LPN avg loss - NE avg loss: 1.3372096062377097\n",
      "\n"
     ]
    }
   ],
   "source": [
    "noise_levels = [0.1, 0.2, 0.3, 0.4, 0.5, 0.6, 0.7]\n",
    "ne_avg_losses = []\n",
    "lpn_avg_losses = []\n",
    "\n",
    "for noise in noise_levels:\n",
    "\n",
    "    ne_running_loss = 0 \n",
    "    lpn_running_loss = 0\n",
    "    noisy_running_loss = 0\n",
    "    num_steps = 1000\n",
    "    for step, batch in enumerate(test_data_loader):\n",
    "        if step >= num_steps:\n",
    "            break\n",
    "\n",
    "        clean_image = batch[\"image\"].to(device)\n",
    "        noised_image = clean_image + noise * torch.randn_like(clean_image)\n",
    "\n",
    "        # get denoised images\n",
    "        with torch.no_grad():\n",
    "            ne_output = model(noised_image)\n",
    "            lpn_output = lpn(noised_image)\n",
    "        \n",
    "        mse_loss = nn.MSELoss()\n",
    "        ne_loss = mse_loss(ne_output, clean_image)\n",
    "        lpn_loss = mse_loss(lpn_output, clean_image)\n",
    "\n",
    "        noisy_running_loss += mse_loss(noised_image, clean_image).item()\n",
    "        ne_running_loss += ne_loss.item()\n",
    "        lpn_running_loss += lpn_loss.item()\n",
    "    \n",
    "    ne_avg_loss = ne_running_loss / num_steps\n",
    "    lpn_avg_loss = lpn_running_loss / num_steps\n",
    "    noisy_avg_loss = noisy_running_loss / num_steps\n",
    "    ne_avg_losses.append(ne_avg_loss)\n",
    "    lpn_avg_losses.append(lpn_avg_loss)\n",
    "\n",
    "    print(f\"Noise Level: {noise}\")\n",
    "    print(f\"Noisy Avg Loss: {noisy_avg_loss}\")\n",
    "    print(f\"NE avg loss: {ne_avg_loss}\")\n",
    "    print(f\"LPN avg loss: {lpn_avg_loss}\")\n",
    "    print(f\"LPN avg loss - NE avg loss: {lpn_avg_loss - ne_avg_loss}\\n\")"
   ]
  },
  {
   "cell_type": "code",
   "execution_count": 7,
   "metadata": {},
   "outputs": [
    {
     "data": {
      "image/png": "[encoded data removed]",
      "text/plain": [
       "<Figure size 640x480 with 1 Axes>"
      ]
     },
     "metadata": {},
     "output_type": "display_data"
    }
   ],
   "source": [
    "# plot results\n",
    "plt.plot(noise_levels, ne_avg_losses, label=\"NE\")\n",
    "plt.plot(noise_levels, lpn_avg_losses, label=\"LPN\")\n",
    "plt.xlabel(\"Noise Level\")\n",
    "plt.ylabel(\"Average Loss\")\n",
    "plt.legend()\n",
    "plt.show()"
   ]
  }
 ],
 "metadata": {
  "kernelspec": {
   "display_name": "lpn",
   "language": "python",
   "name": "python3"
  },
  "language_info": {
   "codemirror_mode": {
    "name": "ipython",
    "version": 3
   },
   "file_extension": ".py",
   "mimetype": "text/x-python",
   "name": "python",
   "nbconvert_exporter": "python",
   "pygments_lexer": "ipython3",
   "version": "3.9.16"
  }
 },
 "nbformat": 4,
 "nbformat_minor": 2
}
