{
 "cells": [
  {
   "cell_type": "markdown",
   "metadata": {},
   "source": [
    "# Violin Plot"
   ]
  },
  {
   "cell_type": "code",
   "execution_count": null,
   "metadata": {},
   "outputs": [],
   "source": [
    "import pandas as pd\n",
    "import seaborn as sns\n",
    "import os\n",
    "import matplotlib.pyplot as plt\n",
    "\n",
    "sns.set_theme(style=\"whitegrid\")\n",
    "sns.set_context(\"notebook\", font_scale=1.0)\n",
    "\n",
    "fig_dir = \"../experiments/ne_mnist/figures/prior/\"\n",
    "\n",
    "NORMALIZE = True  # whether to normalize the offset of the prior\n",
    "\n",
    "MODEL_DIR = \"../experiments/ne_mnist\"\n",
    "INVERT_MODE = \"cvx_cg\"\n",
    "perturb_mode = \"gaussian\"\n",
    "PRIOR_DIR = os.path.join(MODEL_DIR, \"prior\")\n",
    "result_dir = os.path.join(PRIOR_DIR, INVERT_MODE, perturb_mode, \"all\")\n",
    "\n",
    "# load data\n",
    "df = pd.read_csv(os.path.join(result_dir, \"prior.csv\"))\n",
    "\n",
    "# reshape for seaborn\n",
    "df = pd.melt(df)\n",
    "\n",
    "if NORMALIZE:\n",
    "    # normalize the offset of the prior to 0\n",
    "    df[\"value\"] = df[\"value\"] - df[\"value\"].min()"
   ]
  },
  {
   "cell_type": "code",
   "execution_count": null,
   "metadata": {},
   "outputs": [],
   "source": [
    "fig, ax = plt.subplots(figsize=(5, 4))\n",
    "ax = sns.violinplot(data=df, x=\"variable\", y=\"value\")\n",
    "if perturb_mode == \"convex\":\n",
    "    ax.set_xlabel(r\"$\\lambda$\", fontsize=\"large\")\n",
    "else:\n",
    "    ax.set_xlabel(r\"$\\sigma$\", fontsize=\"large\")\n",
    "ax.set_ylabel(\"Learned prior, \" + r\"$R_\\theta$\", fontsize=\"large\")\n",
    "os.makedirs(fig_dir, exist_ok=True)\n",
    "plt.savefig(\n",
    "    os.path.join(fig_dir, f\"ne_mnist_{perturb_mode}_violin.pdf\"),\n",
    "    bbox_inches=\"tight\",\n",
    ")"
   ]
  },
  {
   "cell_type": "code",
   "execution_count": null,
   "metadata": {},
   "outputs": [],
   "source": []
  }
 ],
 "metadata": {
  "kernelspec": {
   "display_name": "lpn",
   "language": "python",
   "name": "python3"
  },
  "language_info": {
   "codemirror_mode": {
    "name": "ipython",
    "version": 3
   },
   "file_extension": ".py",
   "mimetype": "text/x-python",
   "name": "python",
   "nbconvert_exporter": "python",
   "pygments_lexer": "ipython3",
   "version": "3.9.16"
  }
 },
 "nbformat": 4,
 "nbformat_minor": 2
}
