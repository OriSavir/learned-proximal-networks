{
 "cells": [
  {
   "cell_type": "markdown",
   "metadata": {},
   "source": [
    "# Images and Priors"
   ]
  },
  {
   "cell_type": "code",
   "execution_count": null,
   "metadata": {},
   "outputs": [],
   "source": [
    "import numpy as np\n",
    "import os\n",
    "import pandas as pd\n",
    "\n",
    "fig_dir = \"../experiments/ne_mnist/figures/prior/\"\n",
    "os.makedirs(fig_dir, exist_ok=True)\n",
    "\n",
    "NORMALIZE = True  # whether to normalize the offset of the prior\n",
    "\n",
    "MODEL_DIR = \"../experiments/ne_mnist/\"\n",
    "INVERT_MODE = \"cvx_cg\"\n",
    "perturb_mode = \"gaussian\"\n",
    "\n",
    "PRIOR_DIR = os.path.join(MODEL_DIR, \"prior\")\n",
    "result_dir = os.path.join(PRIOR_DIR, INVERT_MODE, perturb_mode, \"all\")\n",
    "\n",
    "img_size = (28, 28)"
   ]
  },
  {
   "cell_type": "code",
   "execution_count": null,
   "metadata": {},
   "outputs": [],
   "source": [
    "# visualization settings\n",
    "idx_map = {\n",
    "    \"gaussian\": [0, 4],\n",
    "    \"gaussian_clip\": [0, 4],\n",
    "    \"blur\": [26, 30],\n",
    "    \"convex\": [3, 5],\n",
    "}\n",
    "idx_list = idx_map[perturb_mode]\n",
    "col_idx = None\n",
    "\n",
    "\n",
    "# load data\n",
    "df = pd.read_csv(os.path.join(result_dir, \"prior.csv\"))"
   ]
  },
  {
   "cell_type": "code",
   "execution_count": null,
   "metadata": {},
   "outputs": [],
   "source": [
    "if NORMALIZE:\n",
    "    min_val = df.min().min()\n",
    "    df = df - min_val"
   ]
  },
  {
   "cell_type": "code",
   "execution_count": null,
   "metadata": {},
   "outputs": [],
   "source": [
    "if col_idx is None:\n",
    "    col_idx = np.arange(df.shape[1])\n",
    "df = df.iloc[idx_list, col_idx]\n",
    "p_array = df.values\n",
    "\n",
    "x_array = np.load(os.path.join(result_dir, \"x.npy\"))\n",
    "x_array = x_array[idx_list, :, :][:, col_idx, :]"
   ]
  },
  {
   "cell_type": "code",
   "execution_count": null,
   "metadata": {},
   "outputs": [],
   "source": [
    "# plot\n",
    "import matplotlib.pyplot as plt\n",
    "from matplotlib.gridspec import GridSpec\n",
    "import seaborn as sns\n",
    "\n",
    "sns.set()\n",
    "sns.set_context(\"paper\", font_scale=1.1)\n",
    "\n",
    "nc, nr = len(col_idx), len(idx_list)\n",
    "figw = 6\n",
    "figh = figw * nr / nc\n",
    "fig = plt.figure(figsize=(figw, figh), dpi=300)\n",
    "gs = GridSpec(nr, nc, wspace=-0.4, hspace=0.3)\n",
    "for i in range(nr):\n",
    "    for j in range(nc):\n",
    "        ax = fig.add_subplot(gs[i, j])\n",
    "        ax.imshow(\n",
    "            x_array[i, j].reshape(img_size),\n",
    "            cmap=\"gray\",\n",
    "            interpolation=\"none\",\n",
    "            vmin=0,\n",
    "            vmax=1,\n",
    "        )\n",
    "        ax.axis(\"off\")\n",
    "        ax.annotate(\n",
    "            r\"$R_\\theta = {:.2f}$\".format(p_array[i, j]),\n",
    "            xy=(0.5, 1.07),\n",
    "            xycoords=\"axes fraction\",\n",
    "            ha=\"center\",\n",
    "        )\n",
    "        if i == 0:\n",
    "            if perturb_mode == \"convex\":\n",
    "                symbol = r\"$\\lambda$\"\n",
    "            else:\n",
    "                symbol = r\"$\\sigma$\"\n",
    "            ax.annotate(\n",
    "                r\"{}$={}$\".format(symbol, df.columns[j]),\n",
    "                xy=(0.5, -1.48),\n",
    "                xycoords=\"axes fraction\",\n",
    "                ha=\"center\",\n",
    "            )\n",
    "plt.show()\n",
    "os.makedirs(fig_dir, exist_ok=True)\n",
    "fig.savefig(\n",
    "    os.path.join(fig_dir, f\"ne_mnist_{perturb_mode}.png\"),\n",
    "    bbox_inches=\"tight\",\n",
    ")"
   ]
  },
  {
   "cell_type": "code",
   "execution_count": null,
   "metadata": {},
   "outputs": [],
   "source": []
  }
 ],
 "metadata": {
  "kernelspec": {
   "display_name": "lpn",
   "language": "python",
   "name": "python3"
  },
  "language_info": {
   "codemirror_mode": {
    "name": "ipython",
    "version": 3
   },
   "file_extension": ".py",
   "mimetype": "text/x-python",
   "name": "python",
   "nbconvert_exporter": "python",
   "pygments_lexer": "ipython3",
   "version": "3.9.16"
  }
 },
 "nbformat": 4,
 "nbformat_minor": 2
}
